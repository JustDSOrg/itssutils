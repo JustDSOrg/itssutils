{
 "cells": [
  {
   "cell_type": "code",
   "execution_count": null,
   "metadata": {
    "ExecuteTime": {
     "end_time": "2019-01-22T02:13:40.679819Z",
     "start_time": "2019-01-22T02:13:40.676859Z"
    }
   },
   "outputs": [],
   "source": [
    "import pathlib\n",
    "from itssutils.itssdata import RawITSSData, ITSSMetrics\n",
    "DATA_DIR = pathlib.Path(\"PATH_TO_DATA_HERE\")"
   ]
  },
  {
   "cell_type": "markdown",
   "metadata": {},
   "source": [
    "`itssutils` provides two classes to aid in loading and analyzing traffic stop data. The first, `RawITSSData`, is (as its name suggests) a class to be used for loading raw traffic stop data from a text file and visualizing the raw data in a few different ways. The second, `ITSSMetrics`, provides functions for splitting the data into different categories, calculating metrics, and plotting these metrics."
   ]
  },
  {
   "cell_type": "markdown",
   "metadata": {},
   "source": [
    "First, we can load in the data for a single year, say 2017."
   ]
  },
  {
   "cell_type": "code",
   "execution_count": null,
   "metadata": {
    "ExecuteTime": {
     "end_time": "2019-01-22T02:15:02.072219Z",
     "start_time": "2019-01-22T02:13:54.642240Z"
    },
    "scrolled": true
   },
   "outputs": [],
   "source": [
    "raw_2017 = RawITSSData()\n",
    "filepath = DATA_DIR / \"2017_ITSS_Data.txt\"\n",
    "raw_2017.load_single_year(2017, filepath, save=True, fast=False)"
   ]
  },
  {
   "cell_type": "markdown",
   "metadata": {},
   "source": [
    "Let's look at how many drivers were stopped each day, grouped by the race of the driver."
   ]
  },
  {
   "cell_type": "code",
   "execution_count": null,
   "metadata": {
    "ExecuteTime": {
     "end_time": "2019-01-22T02:15:13.428965Z",
     "start_time": "2019-01-22T02:15:09.895254Z"
    },
    "scrolled": false
   },
   "outputs": [],
   "source": [
    "raw_2017.plot_timeseries(frequency='1D', group='DriverRace')"
   ]
  },
  {
   "cell_type": "markdown",
   "metadata": {},
   "source": [
    "So it looks like police in Illinois conduct around 6,000-7,000 traffic stops per day. The police also appear to get into the holiday spirit -- the number of traffic stops drops significantly on Christmas Day.\n",
    "\n",
    "We can group by multiple categories and focus on an individual department, say the Chicago Police."
   ]
  },
  {
   "cell_type": "code",
   "execution_count": null,
   "metadata": {
    "ExecuteTime": {
     "end_time": "2019-01-22T02:15:17.438945Z",
     "start_time": "2019-01-22T02:15:15.520686Z"
    }
   },
   "outputs": [],
   "source": [
    "raw_2017.plot_timeseries(agency='Chicago Police', group=['DriverRace', 'DriverSex'])"
   ]
  },
  {
   "cell_type": "markdown",
   "metadata": {},
   "source": [
    "We can also filter and group by values in a given category. For instance, we can look at how many tickets were given to male and female drivers by the Illinois State Police every month."
   ]
  },
  {
   "cell_type": "code",
   "execution_count": null,
   "metadata": {
    "ExecuteTime": {
     "end_time": "2019-01-22T02:15:19.585987Z",
     "start_time": "2019-01-22T02:15:17.497583Z"
    }
   },
   "outputs": [],
   "source": [
    "raw_2017.plot_timeseries(frequency='1M', \n",
    "                         agency='Illinois State Police', \n",
    "                         filter_cols='ResultOfStop', \n",
    "                         filter_values='Citation', \n",
    "                         group='DriverSex')"
   ]
  },
  {
   "cell_type": "markdown",
   "metadata": {},
   "source": [
    "\n",
    "We can now calculate metrics like citation rate or search hit rate from this raw data, again grouping by different categories as desired. The metrics are calculated based on the entirety of the data that is passed in -- for more granular control over, for example, the time frame over which the metrics are calculated, extract the data frame from the raw data using `get_raw_dataframe`."
   ]
  },
  {
   "cell_type": "code",
   "execution_count": null,
   "metadata": {
    "ExecuteTime": {
     "end_time": "2019-01-22T02:17:17.145148Z",
     "start_time": "2019-01-22T02:15:21.053559Z"
    }
   },
   "outputs": [],
   "source": [
    "metrics_2017 = ITSSMetrics(raw_2017)\n",
    "metrics_2017.calculate_metrics(['AgencyName', 'DriverRace'])"
   ]
  },
  {
   "cell_type": "markdown",
   "metadata": {},
   "source": [
    "Or, if you download our pre-processed file [here]("
   ]
  },
  {
   "cell_type": "code",
   "execution_count": null,
   "metadata": {
    "ExecuteTime": {
     "end_time": "2019-01-22T02:17:17.183934Z",
     "start_time": "2019-01-22T02:17:17.147399Z"
    }
   },
   "outputs": [],
   "source": [
    "metrics_2017.get_metrics()"
   ]
  },
  {
   "cell_type": "markdown",
   "metadata": {},
   "source": [
    "Let's examine Chicago's search rate and search \"hit\" rates for all different types of drivers."
   ]
  },
  {
   "cell_type": "code",
   "execution_count": null,
   "metadata": {
    "ExecuteTime": {
     "end_time": "2019-01-22T02:17:17.666040Z",
     "start_time": "2019-01-22T02:17:17.186841Z"
    },
    "scrolled": false
   },
   "outputs": [],
   "source": [
    "metrics_2017.plot_bars('Chicago Police', 'SearchRate', \n",
    "              only_include_rows=['Black', 'Hispanic/Latino', 'Asian', 'White'])\n",
    "metrics_2017.plot_bars('Chicago Police', 'SearchHitRate', \n",
    "              only_include_rows=['Black', 'Hispanic/Latino', 'Asian', 'White'])"
   ]
  },
  {
   "cell_type": "markdown",
   "metadata": {},
   "source": [
    "It looks like both Black and Hispanic drivers are searched at higher rates than White drivers, but that the Chicago police are less likely to find contraband when searching Black or Hispanic drivers than when searching White drivers."
   ]
  },
  {
   "cell_type": "markdown",
   "metadata": {},
   "source": [
    "We can now compare the difference between the search rate for Black and White drivers for all police departments in Illinois. The scatter plot functionality will enable us to visualize the rates for all the departments in the data set. We can identify the largest departments by sizing the dots according to a certain count, in this case the number of searches performed. Using a log scale makes the data easier to visualize in some cases when values are clustered around a low value, as in this case."
   ]
  },
  {
   "cell_type": "code",
   "execution_count": null,
   "metadata": {
    "ExecuteTime": {
     "end_time": "2019-01-22T02:17:31.965447Z",
     "start_time": "2019-01-22T02:17:30.478332Z"
    },
    "scrolled": false
   },
   "outputs": [],
   "source": [
    "s1 = metrics_2017.plot_scatter('Black', 'White', 'SearchRate', 'SearchCount', \n",
    "                      population_col='StopCount',\n",
    "                      logscale=True, \n",
    "                      limits=[0.001, 1], \n",
    "                      title=' ')\n",
    "s2 = metrics_2017.plot_scatter('Hispanic/Latino', 'White', 'SearchRate', 'SearchCount', \n",
    "                      population_col='StopCount',\n",
    "                      logscale=True, \n",
    "                      limits=[0.001,1], \n",
    "                      title=' ')"
   ]
  },
  {
   "cell_type": "markdown",
   "metadata": {},
   "source": [
    "We can then similarly visualize the search \"hit\" rate."
   ]
  },
  {
   "cell_type": "code",
   "execution_count": null,
   "metadata": {
    "ExecuteTime": {
     "end_time": "2019-01-22T02:17:36.552250Z",
     "start_time": "2019-01-22T02:17:35.542130Z"
    },
    "scrolled": false
   },
   "outputs": [],
   "source": [
    "s1 = metrics_2017.plot_scatter('Black', 'White', 'SearchHitRate', 'SearchHitCount', \n",
    "                      population_col='StopCount',\n",
    "                      logscale=False, \n",
    "                      title='Search Hit Rate Comparison')\n",
    "s2 = metrics_2017.plot_scatter('Hispanic/Latino', 'White', 'SearchHitRate', 'SearchHitCount', \n",
    "                      population_col='StopCount',\n",
    "                      logscale=False, \n",
    "                      title='Search Hit Rate Comparison')"
   ]
  },
  {
   "cell_type": "markdown",
   "metadata": {},
   "source": [
    "And the citation rate"
   ]
  },
  {
   "cell_type": "code",
   "execution_count": null,
   "metadata": {
    "ExecuteTime": {
     "end_time": "2019-01-22T02:17:41.065309Z",
     "start_time": "2019-01-22T02:17:39.982133Z"
    },
    "scrolled": false
   },
   "outputs": [],
   "source": [
    "s1 = metrics_2017.plot_scatter('Black', 'White', 'Result-CitationRate', 'Result-CitationCount', \n",
    "                      population_col='StopCount',\n",
    "                      logscale=False, \n",
    "                      title='Search Hit Rate Comparison')\n",
    "s2 = metrics_2017.plot_scatter('Hispanic/Latino', 'White', 'Result-CitationRate', 'Result-CitationCount', \n",
    "                      population_col='StopCount',\n",
    "                      logscale=False, \n",
    "                      title='Search Hit Rate Comparison')"
   ]
  },
  {
   "cell_type": "markdown",
   "metadata": {},
   "source": [
    "Finally, we can ask whether the results shown in the scatter plot are significant by conducting significance testing. A z-score can be calculated using the z-test for two population proportions.\n",
    "$$z=\\frac{p_1-p_0}{\\sqrt{\\hat{p}(1-\\hat{p})(\\frac{1}{n_1} + \\frac{1}{n_2})}}$$ where the observed probabilities $p_i$ are the number of observed occurences $x_i$ over the total number of observations $n_i$, $$p_i = \\frac{x_i}{n_i}$$ and the overall probability $\\hat{p}$ is $$\\hat{p} = \\frac{x_1+x_2}{n_1+n_2}$$"
   ]
  },
  {
   "cell_type": "markdown",
   "metadata": {},
   "source": [
    "We can then examine whether the difference in search hit rates is statistically significant for all of the departments across Illinois. Since we calculate this metric for a number of departments, we might expect to observe deviation from perfect equality due to random chance. Observing a histogram of values relative to the expected distribution allows us to draw conclusions about the overall distribution of values and identify outliers."
   ]
  },
  {
   "cell_type": "code",
   "execution_count": null,
   "metadata": {
    "ExecuteTime": {
     "end_time": "2019-01-22T02:17:48.413834Z",
     "start_time": "2019-01-22T02:17:47.552551Z"
    }
   },
   "outputs": [],
   "source": [
    "z = metrics_2017.plot_zhist('Black', 'White', 'SearchHitCount', 'SearchCount')\n",
    "print(z.sort_values().head(10))\n",
    "z = metrics_2017.plot_zhist('Hispanic/Latino', 'White', 'SearchHitCount', 'SearchCount')\n",
    "print(z.sort_values().head(10))"
   ]
  },
  {
   "cell_type": "code",
   "execution_count": null,
   "metadata": {
    "ExecuteTime": {
     "end_time": "2019-01-22T02:17:49.416979Z",
     "start_time": "2019-01-22T02:17:48.416190Z"
    }
   },
   "outputs": [],
   "source": [
    "z = metrics_2017.plot_zhist('Black', 'White', 'Result-CitationCount', 'StopCount')\n",
    "print(z.sort_values(ascending=False).head(10))\n",
    "z = metrics_2017.plot_zhist('Hispanic/Latino', 'White', 'Result-CitationCount', 'StopCount')\n",
    "print(z.sort_values(ascending=False).head(10))"
   ]
  },
  {
   "cell_type": "markdown",
   "metadata": {},
   "source": [
    "We can save this data as a pickle file for loading in later -- that way, we don't have to wait every time we want to look at these metrics."
   ]
  },
  {
   "cell_type": "code",
   "execution_count": null,
   "metadata": {
    "ExecuteTime": {
     "end_time": "2019-01-22T02:18:15.058252Z",
     "start_time": "2019-01-22T02:18:13.796259Z"
    }
   },
   "outputs": [],
   "source": [
    "metrics_2017.save_csv(DATA_DIR / \"preprocessed\" / \"ITSS_Metrics_2017.csv\")\n",
    "metrics_2017.save(DATA_DIR / \"preprocessed\" / \"ITSS_Metrics_2017.pkl\")"
   ]
  },
  {
   "cell_type": "markdown",
   "metadata": {
    "collapsed": true
   },
   "source": [
    "We can also do more! Let's load in a bunch of data."
   ]
  },
  {
   "cell_type": "code",
   "execution_count": null,
   "metadata": {
    "ExecuteTime": {
     "end_time": "2019-01-22T02:49:52.668940Z",
     "start_time": "2019-01-22T02:49:05.641272Z"
    }
   },
   "outputs": [],
   "source": [
    "raw_2012_2017 = RawITSSData()\n",
    "year_file_list = [(year, DATA_DIR / f'{year}_ITSS_Data.txt') for year in range(2012, 2018)]\n",
    "# This might take a bit of time...\n",
    "raw_2012_2017.load_multiple_years(year_file_list, fast=True, save=False) "
   ]
  },
  {
   "cell_type": "markdown",
   "metadata": {},
   "source": [
    "Like above, we can do a timeseries for all of this raw data"
   ]
  },
  {
   "cell_type": "code",
   "execution_count": null,
   "metadata": {
    "ExecuteTime": {
     "end_time": "2019-01-22T02:50:28.898073Z",
     "start_time": "2019-01-22T02:49:52.674921Z"
    },
    "scrolled": false
   },
   "outputs": [],
   "source": [
    "raw_2012_2017.plot_timeseries(frequency='1M',\n",
    "                                agency='Chicago Police', \n",
    "                                group='DriverRace')"
   ]
  },
  {
   "cell_type": "markdown",
   "metadata": {},
   "source": [
    "Wow, something clearly happened in after 2015... The Chicago Police appear to have tripled the number of traffic stops they conducted!\n",
    "\n",
    "We can calculate metrics for this expanded time range."
   ]
  },
  {
   "cell_type": "code",
   "execution_count": null,
   "metadata": {
    "ExecuteTime": {
     "end_time": "2019-01-22T03:16:01.877660Z",
     "start_time": "2019-01-22T02:54:03.188235Z"
    },
    "scrolled": true
   },
   "outputs": [],
   "source": [
    "metrics_2012_2017 = ITSSMetrics(raw_2012_2017)\n",
    "# This will probably take some time... like 15-30 minutes time...\n",
    "metrics_2012_2017.calculate_metrics(['AgencyName', 'DriverRace', 'Year']) "
   ]
  },
  {
   "cell_type": "code",
   "execution_count": null,
   "metadata": {
    "ExecuteTime": {
     "end_time": "2019-01-22T03:33:58.351579Z",
     "start_time": "2019-01-22T03:33:48.350535Z"
    }
   },
   "outputs": [],
   "source": [
    "metrics_2012_2017.save_csv(DATA_DIR / \"preprocessed\" / \"2012-2017_ITSS_Metrics.csv\")\n",
    "metrics_2012_2017.save(DATA_DIR / \"preprocessed\" / \"2012-2017_ITSS_Metrics.pkl\")"
   ]
  },
  {
   "cell_type": "code",
   "execution_count": null,
   "metadata": {
    "ExecuteTime": {
     "end_time": "2019-01-22T03:57:00.771107Z",
     "start_time": "2019-01-22T03:56:59.714065Z"
    }
   },
   "outputs": [],
   "source": [
    "metrics_2012_2017.plot_timeseries('SearchRate', \n",
    "                                  only_include_rows='Chicago Police',\n",
    "                                  only_include_entries=['Black', 'Hispanic/Latino', 'Asian', 'White'],\n",
    "                                  title='Search Rate 2012-2017')"
   ]
  },
  {
   "cell_type": "code",
   "execution_count": null,
   "metadata": {
    "ExecuteTime": {
     "end_time": "2019-01-22T03:54:19.167862Z",
     "start_time": "2019-01-22T03:54:17.939977Z"
    },
    "scrolled": false
   },
   "outputs": [],
   "source": [
    "s = metrics_2012_2017.plot_scatter(('Black', 'All_Year'), ('White', 'All_Year'), 'SearchHitRate', 'SearchHitCount')"
   ]
  },
  {
   "cell_type": "code",
   "execution_count": null,
   "metadata": {
    "ExecuteTime": {
     "end_time": "2019-01-22T03:54:39.825918Z",
     "start_time": "2019-01-22T03:54:38.647488Z"
    },
    "scrolled": false
   },
   "outputs": [],
   "source": [
    "s = metrics_2012_2017.plot_scatter(('Hispanic/Latino', 'All_Year'), ('White', 'All_Year'), \n",
    "                                   'SearchHitRate', 'SearchHitCount')"
   ]
  },
  {
   "cell_type": "code",
   "execution_count": null,
   "metadata": {
    "ExecuteTime": {
     "end_time": "2019-01-22T03:55:03.754764Z",
     "start_time": "2019-01-22T03:55:02.528381Z"
    }
   },
   "outputs": [],
   "source": [
    "z = metrics_2012_2017.plot_zhist(('Black', 'All_Year'), ('White', 'All_Year'), 'SearchHitCount', 'SearchCount')\n",
    "print(z.sort_values().head(10))"
   ]
  },
  {
   "cell_type": "code",
   "execution_count": null,
   "metadata": {
    "ExecuteTime": {
     "end_time": "2019-01-22T03:55:23.308643Z",
     "start_time": "2019-01-22T03:55:21.417693Z"
    }
   },
   "outputs": [],
   "source": [
    "z = metrics_2012_2017.plot_zhist(('Hispanic/Latino', 'All_Year'), ('White', 'All_Year'), 'SearchHitCount', 'SearchCount')\n",
    "print(z.sort_values().head(10))"
   ]
  },
  {
   "cell_type": "markdown",
   "metadata": {},
   "source": [
    "To a high degree of statistical significance, there are many police departments that find contraband at lower rates when searching Black or Hispanic drivers than when searching White drivers."
   ]
  },
  {
   "cell_type": "code",
   "execution_count": null,
   "metadata": {
    "ExecuteTime": {
     "end_time": "2019-01-22T04:42:16.020055Z",
     "start_time": "2019-01-22T04:42:14.686661Z"
    }
   },
   "outputs": [],
   "source": [
    "s = metrics_2012_2017.plot_scatter(('Black', 'All_Year'), ('White', 'All_Year'), \n",
    "                                   'Result-CitationRate', 'Result-CitationCount',\n",
    "                                   population_col='StopCount')"
   ]
  },
  {
   "cell_type": "code",
   "execution_count": null,
   "metadata": {
    "ExecuteTime": {
     "end_time": "2019-01-22T04:42:10.913245Z",
     "start_time": "2019-01-22T04:42:09.532846Z"
    }
   },
   "outputs": [],
   "source": [
    "s = metrics_2012_2017.plot_scatter(('Hispanic/Latino', 'All_Year'), ('White', 'All_Year'), \n",
    "                                   'Result-CitationRate', 'Result-CitationCount', \n",
    "                                    population_col='StopCount')"
   ]
  },
  {
   "cell_type": "code",
   "execution_count": null,
   "metadata": {
    "ExecuteTime": {
     "end_time": "2019-01-22T03:57:27.387969Z",
     "start_time": "2019-01-22T03:57:26.150243Z"
    }
   },
   "outputs": [],
   "source": [
    "z = metrics_2012_2017.plot_zhist(('Black', 'All_Year'), ('White', 'All_Year'), 'Result-CitationCount', 'StopCount')\n",
    "print(z.sort_values(ascending=False).head(10))"
   ]
  },
  {
   "cell_type": "code",
   "execution_count": null,
   "metadata": {
    "ExecuteTime": {
     "end_time": "2019-01-22T04:00:28.521029Z",
     "start_time": "2019-01-22T04:00:27.284738Z"
    }
   },
   "outputs": [],
   "source": [
    "z = metrics_2012_2017.plot_zhist(('Hispanic/Latino', 'All_Year'), ('White', 'All_Year'), 'Result-CitationCount', 'StopCount')\n",
    "print(z.sort_values(ascending=False).head(10))"
   ]
  },
  {
   "cell_type": "markdown",
   "metadata": {},
   "source": [
    "Is this citation difference due to driving behavior? We can break down the citations by the type of violation to try to get an answer."
   ]
  },
  {
   "cell_type": "code",
   "execution_count": null,
   "metadata": {
    "ExecuteTime": {
     "end_time": "2019-01-22T04:00:54.046291Z",
     "start_time": "2019-01-22T04:00:44.310256Z"
    },
    "scrolled": false
   },
   "outputs": [],
   "source": [
    "for race in [('Black', 'All_Year'), ('Hispanic/Latino', 'All_Year'),]:\n",
    "    for violation in ['MovingViolation', 'Equipment', 'LicenseRegistration', 'CommercialVehicle']:\n",
    "        colstr = 'Reason-' + violation\n",
    "        z = metrics_2012_2017.plot_zhist(race, ('White', 'All_Year'), colstr + 'CitationCount', colstr + 'Count')"
   ]
  },
  {
   "cell_type": "code",
   "execution_count": null,
   "metadata": {
    "ExecuteTime": {
     "end_time": "2019-01-22T04:02:16.174540Z",
     "start_time": "2019-01-22T04:02:02.227458Z"
    },
    "scrolled": false
   },
   "outputs": [],
   "source": [
    "for race in [('Black', 'All_Year'), ('Hispanic/Latino', 'All_Year')]:\n",
    "    for mv in ['Speed', 'Traffic', 'Other', 'Lane', 'Follow', 'Seat']:\n",
    "        colstr = 'move-' + mv\n",
    "        z = metrics_2012_2017.plot_zhist(race, ('White', 'All_Year'), colstr + 'CitationCount', colstr + 'Count')"
   ]
  },
  {
   "cell_type": "markdown",
   "metadata": {},
   "source": [
    "There's more to try on your own! You could try grouping by the sex of the driver (`DriverSex`) or by the year to look at year-over-year changes in specific metrics. "
   ]
  },
  {
   "cell_type": "code",
   "execution_count": null,
   "metadata": {},
   "outputs": [],
   "source": []
  }
 ],
 "metadata": {
  "kernelspec": {
   "display_name": "Python 3",
   "language": "python",
   "name": "python3"
  },
  "language_info": {
   "codemirror_mode": {
    "name": "ipython",
    "version": 3
   },
   "file_extension": ".py",
   "mimetype": "text/x-python",
   "name": "python",
   "nbconvert_exporter": "python",
   "pygments_lexer": "ipython3",
   "version": "3.6.5"
  }
 },
 "nbformat": 4,
 "nbformat_minor": 2
}
